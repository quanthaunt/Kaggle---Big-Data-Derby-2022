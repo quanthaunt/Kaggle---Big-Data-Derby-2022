{
 "cells": [
  {
   "cell_type": "code",
   "execution_count": null,
   "id": "13d61f22-a8f9-4319-99cc-64d0d99c33ae",
   "metadata": {},
   "outputs": [],
   "source": [
    "import pandas as pd\n",
    "import os "
   ]
  },
  {
   "cell_type": "code",
   "execution_count": null,
   "id": "bf222054-a424-41f4-b1bb-f2bc1579d328",
   "metadata": {},
   "outputs": [],
   "source": [
    "os.chdir('C:\\\\Users\\\\Adnan Shahbaaz\\\\Desktop\\\\Big Derby 22')"
   ]
  },
  {
   "cell_type": "code",
   "execution_count": null,
   "id": "3093c745-4d7d-4b77-a4ec-c95c705d7272",
   "metadata": {},
   "outputs": [],
   "source": [
    "# read data\n",
    "df = pd.read_csv('Data/nyra_race_table.csv')"
   ]
  },
  {
   "cell_type": "code",
   "execution_count": null,
   "id": "6a14017e-b427-4cb7-8efc-cb0d7fde37c4",
   "metadata": {},
   "outputs": [],
   "source": [
    "dates = df.race_date \n",
    "\n",
    "# // Code venues as id's on trakus website\n",
    "\n",
    "df.loc[df['track_id']== 'AQU',\"wtrackid\"] = '24'\n",
    "df.loc[df['track_id']== 'BEL',\"wtrackid\"] = '23'\n",
    "df.loc[df['track_id']== 'SAR',\"wtrackid\"] = '25'\n",
    "\n",
    "df.track_id.unique() #check\n",
    "\n",
    "venues = df.wtrackid "
   ]
  },
  {
   "cell_type": "code",
   "execution_count": null,
   "id": "bdff1950-c8bb-4fa3-99fc-46fc7a81e622",
   "metadata": {},
   "outputs": [],
   "source": [
    "# // unique urls with date and venue in dataset\n",
    "\n",
    "urls_a = 'https://tnetwork.trakus.com/tnet/t_NYRA.aspx?Venue=' + venues + '&Type=TBRED&Date=' + dates\n",
    "\n",
    "urls = urls_a.unique()"
   ]
  },
  {
   "cell_type": "code",
   "execution_count": null,
   "id": "f7ee13e7-e2d9-4e1c-b15f-7227d58f3608",
   "metadata": {},
   "outputs": [],
   "source": [
    "from bs4 import BeautifulSoup as bs\n",
    "import requests\n",
    "import time"
   ]
  },
  {
   "cell_type": "code",
   "execution_count": null,
   "id": "81edd261-532b-4f91-9205-ac082be81919",
   "metadata": {},
   "outputs": [],
   "source": [
    "#// Get relative url's for different races on each raceday at relevant venue \n",
    "\n",
    "import cchardet # for faster parsing\n",
    "import lxml\n",
    "\n",
    "rlink = []\n",
    "\n",
    "start = time.time()\n",
    "\n",
    "r = requests.Session()\n",
    "\n",
    "for url in urls:\n",
    "    req = r.get(url)\n",
    "    soup  = bs(req.text,\"lxml\")\n",
    "    racelist = soup.find_all('table',attrs={\"class\":\"DailyRaceList\"})\n",
    "   \n",
    "    for tags in racelist:\n",
    "        atag = tags.find_all('a')\n",
    "    \n",
    "    for reflink in atag:    \n",
    "        href =  reflink.get('href') \n",
    "        rlink.append('https://tnetwork.trakus.com/tnet/' + href)\n",
    "\n",
    "end = time.time()"
   ]
  },
  {
   "cell_type": "code",
   "execution_count": null,
   "id": "bebe19ac-9158-4ef5-870c-5efdcf2dc74c",
   "metadata": {},
   "outputs": [],
   "source": [
    "rlink[:10]"
   ]
  },
  {
   "cell_type": "code",
   "execution_count": null,
   "id": "6acad134-585f-4ec5-b447-7e4cbb85854e",
   "metadata": {},
   "outputs": [],
   "source": [
    "len(rlink) - len(urls_a) # excess of 31 urls found to unique races"
   ]
  },
  {
   "cell_type": "code",
   "execution_count": null,
   "id": "559b7c58-050f-47c3-acbb-eab0badf2c80",
   "metadata": {},
   "outputs": [],
   "source": [
    "end - start # execution time 4m!! :("
   ]
  },
  {
   "cell_type": "code",
   "execution_count": null,
   "id": "27a087cd-f7c8-436a-a673-f72c1d27c818",
   "metadata": {},
   "outputs": [],
   "source": [
    "# collect soups\n",
    "\n",
    "start = time.time()\n",
    "\n",
    "soups = []\n",
    "\n",
    "r = requests.Session()\n",
    "\n",
    "for url in rlink:\n",
    "    req = r.get(url)\n",
    "    soups.append(bs(req.text,\"lxml\"))\n",
    "\n",
    "end = time.time()"
   ]
  },
  {
   "cell_type": "code",
   "execution_count": null,
   "id": "d4db64e4-e25b-4861-9865-b707e9370ac2",
   "metadata": {},
   "outputs": [],
   "source": [
    "end - start # 14m :(("
   ]
  },
  {
   "cell_type": "code",
   "execution_count": null,
   "id": "faf8381f-ac48-44c0-b662-6045c9d7da91",
   "metadata": {},
   "outputs": [],
   "source": [
    "# scrape relative urls for horse numbers \n",
    "\n",
    "import re\n",
    "\n",
    "horsenumbers = []\n",
    "blank = []\n",
    "\n",
    "start = time.time()\n",
    "\n",
    "for soup in soups:\n",
    "    images = soup.find_all('img')\n",
    "    horse_n = [] # clear horse_n after outer loop\n",
    "    \n",
    "    for image in images: \n",
    "        gifsrc = image['src']\n",
    "        r = re.compile(r'(\\d+).gif') # .gif to ensure pulling only number cards\n",
    "        s = r.findall(gifsrc)\n",
    "        if  s != blank:\n",
    "            horse_n += s\n",
    "    \n",
    "    horsenumbers.append(horse_n)\n",
    "\n",
    "end = time.time()\n"
   ]
  },
  {
   "cell_type": "code",
   "execution_count": null,
   "id": "59afcf53-1bc5-4c65-91d5-7b5e76812eef",
   "metadata": {},
   "outputs": [],
   "source": [
    "# write data\n",
    "\n",
    "rlink_df = pd.DataFrame(rlink)\n",
    "\n",
    "horsenumbers_df = pd.DataFrame(horsenumbers)\n",
    "horsenumbers_df = horsenumbers_df.rename(columns= {0:'hn_1',1:'hn_2',2:'hn_3',3:'hn_4',4:'hn_5',5:'hn_6',6:'hn_7'})\n",
    "\n",
    "j = rlink_df.join(horsenumbers_df) # join urls with horse numbers \n",
    "\n",
    "j = j.rename(columns={0:'race_link'}) \n",
    "j.to_csv('reflink+horsenumber.csv',index=False)"
   ]
  },
  {
   "cell_type": "code",
   "execution_count": null,
   "id": "aaaa7db9-cab5-46c4-8d82-27348af85734",
   "metadata": {},
   "outputs": [],
   "source": [
    "len(j[j['hn_1'].isnull()]) # no data for 40 races??"
   ]
  }
 ],
 "metadata": {
  "kernelspec": {
   "display_name": "Python 3 (ipykernel)",
   "language": "python",
   "name": "python3"
  },
  "language_info": {
   "codemirror_mode": {
    "name": "ipython",
    "version": 3
   },
   "file_extension": ".py",
   "mimetype": "text/x-python",
   "name": "python",
   "nbconvert_exporter": "python",
   "pygments_lexer": "ipython3",
   "version": "3.10.6"
  }
 },
 "nbformat": 4,
 "nbformat_minor": 5
}
