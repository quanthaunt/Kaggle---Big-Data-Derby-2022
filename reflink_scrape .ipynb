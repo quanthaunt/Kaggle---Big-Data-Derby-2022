{
 "cells": [
  {
   "cell_type": "code",
   "execution_count": null,
   "id": "13d61f22-a8f9-4319-99cc-64d0d99c33ae",
   "metadata": {},
   "outputs": [],
   "source": [
    "import pandas as pd\n",
    "import os "
   ]
  },
  {
   "cell_type": "code",
   "execution_count": null,
   "id": "bf222054-a424-41f4-b1bb-f2bc1579d328",
   "metadata": {},
   "outputs": [],
   "source": [
    "os.chdir('C:\\\\Users\\\\Adnan Shahbaaz\\\\Desktop\\\\Big Derby 22')"
   ]
  },
  {
   "cell_type": "code",
   "execution_count": null,
   "id": "3093c745-4d7d-4b77-a4ec-c95c705d7272",
   "metadata": {},
   "outputs": [],
   "source": [
    "#read data\n",
    "\n",
    "df = pd.read_csv('Data/nyra_race_table.csv')"
   ]
  },
  {
   "cell_type": "code",
   "execution_count": 210,
   "id": "65f0fa06-8ccf-457e-beac-3dc4546305d6",
   "metadata": {},
   "outputs": [],
   "source": [
    "dates = df.race_date \n",
    "\n",
    "# // Code venues as id's on trakus website\n",
    "\n",
    "df.loc[df['track_id']== 'AQU',\"wtrackid\"] = '24'\n",
    "df.loc[df['track_id']== 'BEL',\"wtrackid\"] = '23'\n",
    "df.loc[df['track_id']== 'SAR',\"wtrackid\"] = '25'\n",
    "\n",
    "df.track_id.unique() #check\n",
    "\n",
    "venues = df.wtrackid \n",
    "\n",
    "# // all unique urls with date and venue for races in dataset\n",
    "\n",
    "urls_a = 'https://tnetwork.trakus.com/tnet/t_NYRA.aspx?Venue=' + venues + '&Type=TBRED&Date=' + dates\n",
    "\n",
    "urls = urls_a.unique()"
   ]
  },
  {
   "cell_type": "code",
   "execution_count": null,
   "id": "f7ee13e7-e2d9-4e1c-b15f-7227d58f3608",
   "metadata": {},
   "outputs": [],
   "source": [
    "from bs4 import BeautifulSoup as bs\n",
    "import requests\n",
    "import time"
   ]
  },
  {
   "cell_type": "code",
   "execution_count": null,
   "id": "81edd261-532b-4f91-9205-ac082be81919",
   "metadata": {},
   "outputs": [],
   "source": [
    "#// Get relative url's for different races on each raceday at relevant venue \n",
    "\n",
    "rlink = []\n",
    "\n",
    "start = time.time()\n",
    "\n",
    "for url in urls:\n",
    "    req = requests.get(url)\n",
    "    soup  = bs(req.text,\"html.parser\")\n",
    "    racelist = soup.find_all('table',attrs={\"class\":\"DailyRaceList\"})\n",
    "    for tags in racelist:\n",
    "        atag = tags.find_all('a')\n",
    "    for reflink in atag:    \n",
    "        href =  reflink.get('href') \n",
    "        rlink.append('https://tnetwork.trakus.com/tnet/' + href)\n",
    "\n",
    "end = time.time()"
   ]
  },
  {
   "cell_type": "code",
   "execution_count": 209,
   "id": "6acad134-585f-4ec5-b447-7e4cbb85854e",
   "metadata": {},
   "outputs": [
    {
     "data": {
      "text/plain": [
       "31"
      ]
     },
     "execution_count": 209,
     "metadata": {},
     "output_type": "execute_result"
    }
   ],
   "source": [
    "len(rlink) - len(urls_a) # excess of 31 urls found to unique races"
   ]
  },
  {
   "cell_type": "code",
   "execution_count": 208,
   "id": "559b7c58-050f-47c3-acbb-eab0badf2c80",
   "metadata": {},
   "outputs": [
    {
     "data": {
      "text/plain": [
       "220.91665935516357"
      ]
     },
     "execution_count": 208,
     "metadata": {},
     "output_type": "execute_result"
    }
   ],
   "source": [
    "end - start # execution time 4m!! :("
   ]
  },
  {
   "cell_type": "code",
   "execution_count": 207,
   "id": "032dadb2-ce35-494f-ba44-81e8242dfade",
   "metadata": {},
   "outputs": [
    {
     "data": {
      "text/plain": [
       "['https://tnetwork.trakus.com/tnet/t_NYRA.aspx?EventID=149756&Date=1/1/2019&Type=TBRED&Venue=24&DisplayType=1',\n",
       " 'https://tnetwork.trakus.com/tnet/t_NYRA.aspx?EventID=149757&Date=1/1/2019&Type=TBRED&Venue=24&DisplayType=1',\n",
       " 'https://tnetwork.trakus.com/tnet/t_NYRA.aspx?EventID=149758&Date=1/1/2019&Type=TBRED&Venue=24&DisplayType=1',\n",
       " 'https://tnetwork.trakus.com/tnet/t_NYRA.aspx?EventID=149759&Date=1/1/2019&Type=TBRED&Venue=24&DisplayType=1',\n",
       " 'https://tnetwork.trakus.com/tnet/t_NYRA.aspx?EventID=149760&Date=1/1/2019&Type=TBRED&Venue=24&DisplayType=1',\n",
       " 'https://tnetwork.trakus.com/tnet/t_NYRA.aspx?EventID=149761&Date=1/1/2019&Type=TBRED&Venue=24&DisplayType=1',\n",
       " 'https://tnetwork.trakus.com/tnet/t_NYRA.aspx?EventID=149762&Date=1/1/2019&Type=TBRED&Venue=24&DisplayType=1',\n",
       " 'https://tnetwork.trakus.com/tnet/t_NYRA.aspx?EventID=149763&Date=1/1/2019&Type=TBRED&Venue=24&DisplayType=1',\n",
       " 'https://tnetwork.trakus.com/tnet/t_NYRA.aspx?EventID=149764&Date=1/1/2019&Type=TBRED&Venue=24&DisplayType=1',\n",
       " 'https://tnetwork.trakus.com/tnet/t_NYRA.aspx?EventID=149854&Date=1/4/2019&Type=TBRED&Venue=24&DisplayType=1',\n",
       " 'https://tnetwork.trakus.com/tnet/t_NYRA.aspx?EventID=149855&Date=1/4/2019&Type=TBRED&Venue=24&DisplayType=1',\n",
       " 'https://tnetwork.trakus.com/tnet/t_NYRA.aspx?EventID=149856&Date=1/4/2019&Type=TBRED&Venue=24&DisplayType=1',\n",
       " 'https://tnetwork.trakus.com/tnet/t_NYRA.aspx?EventID=149857&Date=1/4/2019&Type=TBRED&Venue=24&DisplayType=1',\n",
       " 'https://tnetwork.trakus.com/tnet/t_NYRA.aspx?EventID=149858&Date=1/4/2019&Type=TBRED&Venue=24&DisplayType=1',\n",
       " 'https://tnetwork.trakus.com/tnet/t_NYRA.aspx?EventID=149859&Date=1/4/2019&Type=TBRED&Venue=24&DisplayType=1',\n",
       " 'https://tnetwork.trakus.com/tnet/t_NYRA.aspx?EventID=149860&Date=1/4/2019&Type=TBRED&Venue=24&DisplayType=1',\n",
       " 'https://tnetwork.trakus.com/tnet/t_NYRA.aspx?EventID=149861&Date=1/4/2019&Type=TBRED&Venue=24&DisplayType=1',\n",
       " 'https://tnetwork.trakus.com/tnet/t_NYRA.aspx?EventID=149918&Date=1/5/2019&Type=TBRED&Venue=24&DisplayType=1',\n",
       " 'https://tnetwork.trakus.com/tnet/t_NYRA.aspx?EventID=149919&Date=1/5/2019&Type=TBRED&Venue=24&DisplayType=1',\n",
       " 'https://tnetwork.trakus.com/tnet/t_NYRA.aspx?EventID=149920&Date=1/5/2019&Type=TBRED&Venue=24&DisplayType=1']"
      ]
     },
     "execution_count": 207,
     "metadata": {},
     "output_type": "execute_result"
    }
   ],
   "source": [
    "rlink[:20]"
   ]
  },
  {
   "cell_type": "code",
   "execution_count": null,
   "id": "f7b7e507-d861-4e53-bbf2-68cf6d7f7f85",
   "metadata": {},
   "outputs": [],
   "source": [
    "#// write data\n",
    "\n",
    "import csv\n",
    "\n",
    "with open('urllist.csv', 'w') as csvfile: \n",
    "    \n",
    "    # creating a csv writer object \n",
    "    csvwriter = csv.writer(csvfile,delimiter=\",\", quotechar='\"') \n",
    "        \n",
    "    # writing the data \n",
    "    csvwriter.writerow(rlink) \n",
    "        \n",
    "    "
   ]
  },
  {
   "cell_type": "code",
   "execution_count": null,
   "id": "5d8ab111-ca92-455e-8c2e-1c14c085117e",
   "metadata": {},
   "outputs": [],
   "source": []
  }
 ],
 "metadata": {
  "kernelspec": {
   "display_name": "Python 3 (ipykernel)",
   "language": "python",
   "name": "python3"
  },
  "language_info": {
   "codemirror_mode": {
    "name": "ipython",
    "version": 3
   },
   "file_extension": ".py",
   "mimetype": "text/x-python",
   "name": "python",
   "nbconvert_exporter": "python",
   "pygments_lexer": "ipython3",
   "version": "3.10.6"
  }
 },
 "nbformat": 4,
 "nbformat_minor": 5
}
