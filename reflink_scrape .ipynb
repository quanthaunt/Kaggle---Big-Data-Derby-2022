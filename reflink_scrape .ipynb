{
 "cells": [
  {
   "cell_type": "code",
   "execution_count": null,
   "metadata": {},
   "outputs": [],
   "source": [
    "import pandas as pd\n",
    "import os "
   ]
  },
  {
   "cell_type": "code",
   "execution_count": null,
   "metadata": {},
   "outputs": [],
   "source": [
    "os.chdir('C:\\\\Users\\\\Adnan Shahbaaz\\\\Desktop\\\\Big Derby 22')"
   ]
  },
  {
   "cell_type": "code",
   "execution_count": null,
   "metadata": {},
   "outputs": [],
   "source": [
    "#read data\n",
    "\n",
    "df = pd.read_csv('Data/nyra_race_table.csv')"
   ]
  },
  {
   "cell_type": "code",
   "execution_count": 210,
   "metadata": {},
   "outputs": [],
   "source": [
    "dates = df.race_date \n",
    "\n",
    "# // Code venues as id's on trakus website\n",
    "\n",
    "df.loc[df['track_id']== 'AQU',\"wtrackid\"] = '24'\n",
    "df.loc[df['track_id']== 'BEL',\"wtrackid\"] = '23'\n",
    "df.loc[df['track_id']== 'SAR',\"wtrackid\"] = '25'\n",
    "\n",
    "df.track_id.unique() #check\n",
    "\n",
    "venues = df.wtrackid \n",
    "\n",
    "# // all unique urls with date and venue for races in dataset\n",
    "\n",
    "urls_a = 'https://tnetwork.trakus.com/tnet/t_NYRA.aspx?Venue=' + venues + '&Type=TBRED&Date=' + dates\n",
    "\n",
    "urls = urls_a.unique()"
   ]
  },
  {
   "cell_type": "code",
   "execution_count": null,
   "metadata": {},
   "outputs": [],
   "source": [
    "from bs4 import BeautifulSoup as bs\n",
    "import requests\n",
    "import time"
   ]
  },
  {
   "cell_type": "code",
   "execution_count": null,
   "metadata": {},
   "outputs": [],
   "source": [
    "#// Get relative url's for different races on each raceday at relevant venue \n",
    "\n",
    "rlink = []\n",
    "\n",
    "start = time.time()\n",
    "\n",
    "for url in urls:\n",
    "    req = requests.get(url)\n",
    "    soup  = bs(req.text,\"html.parser\")\n",
    "    racelist = soup.find_all('table',attrs={\"class\":\"DailyRaceList\"})\n",
    "    for tags in racelist:\n",
    "        atag = tags.find_all('a')\n",
    "    for reflink in atag:    \n",
    "        href =  reflink.get('href') \n",
    "        rlink.append('https://tnetwork.trakus.com/tnet/' + href)\n",
    "\n",
    "end = time.time()"
   ]
  },
  {
   "cell_type": "code",
   "execution_count": 209,
   "metadata": {},
   "outputs": [
    {
     "data": {
      "text/plain": [
       "31"
      ]
     },
     "execution_count": 209,
     "metadata": {},
     "output_type": "execute_result"
    }
   ],
   "source": [
    "len(rlink) - len(urls_a) # excess of 31 urls found to unique races"
   ]
  },
  {
   "cell_type": "code",
   "execution_count": 208,
   "metadata": {},
   "outputs": [
    {
     "data": {
      "text/plain": [
       "220.91665935516357"
      ]
     },
     "execution_count": 208,
     "metadata": {},
     "output_type": "execute_result"
    }
   ],
   "source": [
    "end - start # execution time 4m!! :("
   ]
  },
  {
   "cell_type": "code",
   "execution_count": 207,
   "metadata": {},
   "outputs": [
    {
     "data": {
      "text/plain": [
       "['https://tnetwork.trakus.com/tnet/t_NYRA.aspx?EventID=149756&Date=1/1/2019&Type=TBRED&Venue=24&DisplayType=1',\n",
       " 'https://tnetwork.trakus.com/tnet/t_NYRA.aspx?EventID=149757&Date=1/1/2019&Type=TBRED&Venue=24&DisplayType=1',\n",
       " 'https://tnetwork.trakus.com/tnet/t_NYRA.aspx?EventID=149758&Date=1/1/2019&Type=TBRED&Venue=24&DisplayType=1',\n",
       " 'https://tnetwork.trakus.com/tnet/t_NYRA.aspx?EventID=149759&Date=1/1/2019&Type=TBRED&Venue=24&DisplayType=1',\n",
       " 'https://tnetwork.trakus.com/tnet/t_NYRA.aspx?EventID=149760&Date=1/1/2019&Type=TBRED&Venue=24&DisplayType=1',\n",
       " 'https://tnetwork.trakus.com/tnet/t_NYRA.aspx?EventID=149761&Date=1/1/2019&Type=TBRED&Venue=24&DisplayType=1',\n",
       " 'https://tnetwork.trakus.com/tnet/t_NYRA.aspx?EventID=149762&Date=1/1/2019&Type=TBRED&Venue=24&DisplayType=1',\n",
       " 'https://tnetwork.trakus.com/tnet/t_NYRA.aspx?EventID=149763&Date=1/1/2019&Type=TBRED&Venue=24&DisplayType=1',\n",
       " 'https://tnetwork.trakus.com/tnet/t_NYRA.aspx?EventID=149764&Date=1/1/2019&Type=TBRED&Venue=24&DisplayType=1',\n",
       " 'https://tnetwork.trakus.com/tnet/t_NYRA.aspx?EventID=149854&Date=1/4/2019&Type=TBRED&Venue=24&DisplayType=1',\n",
       " 'https://tnetwork.trakus.com/tnet/t_NYRA.aspx?EventID=149855&Date=1/4/2019&Type=TBRED&Venue=24&DisplayType=1',\n",
       " 'https://tnetwork.trakus.com/tnet/t_NYRA.aspx?EventID=149856&Date=1/4/2019&Type=TBRED&Venue=24&DisplayType=1',\n",
       " 'https://tnetwork.trakus.com/tnet/t_NYRA.aspx?EventID=149857&Date=1/4/2019&Type=TBRED&Venue=24&DisplayType=1',\n",
       " 'https://tnetwork.trakus.com/tnet/t_NYRA.aspx?EventID=149858&Date=1/4/2019&Type=TBRED&Venue=24&DisplayType=1',\n",
       " 'https://tnetwork.trakus.com/tnet/t_NYRA.aspx?EventID=149859&Date=1/4/2019&Type=TBRED&Venue=24&DisplayType=1',\n",
       " 'https://tnetwork.trakus.com/tnet/t_NYRA.aspx?EventID=149860&Date=1/4/2019&Type=TBRED&Venue=24&DisplayType=1',\n",
       " 'https://tnetwork.trakus.com/tnet/t_NYRA.aspx?EventID=149861&Date=1/4/2019&Type=TBRED&Venue=24&DisplayType=1',\n",
       " 'https://tnetwork.trakus.com/tnet/t_NYRA.aspx?EventID=149918&Date=1/5/2019&Type=TBRED&Venue=24&DisplayType=1',\n",
       " 'https://tnetwork.trakus.com/tnet/t_NYRA.aspx?EventID=149919&Date=1/5/2019&Type=TBRED&Venue=24&DisplayType=1',\n",
       " 'https://tnetwork.trakus.com/tnet/t_NYRA.aspx?EventID=149920&Date=1/5/2019&Type=TBRED&Venue=24&DisplayType=1']"
      ]
     },
     "execution_count": 207,
     "metadata": {},
     "output_type": "execute_result"
    }
   ],
   "source": [
    "rlink[:20]"
   ]
  },
  {
   "cell_type": "code",
   "execution_count": null,
   "metadata": {},
   "outputs": [],
   "source": [
    "#// write data\n",
    "\n",
    "import csv\n",
    "\n",
    "with open('urllist.csv', 'w') as csvfile: \n",
    "    \n",
    "    # creating a csv writer object \n",
    "    csvwriter = csv.writer(csvfile,delimiter=\",\", quotechar='\"') \n",
    "        \n",
    "    # writing the data \n",
    "    csvwriter.writerow(rlink) \n",
    "        \n",
    "    "
   ]
  },
  {
   "cell_type": "code",
   "execution_count": null,
   "metadata": {},
   "outputs": [],
   "source": []
  }
 ],
 "metadata": {
  "kernelspec": {
   "display_name": "Python 3",
   "language": "python",
   "name": "python3"
  },
  "language_info": {
   "codemirror_mode": {
    "name": "ipython",
    "version": 3
   },
   "file_extension": ".py",
   "mimetype": "text/x-python",
   "name": "python",
   "nbconvert_exporter": "python",
   "pygments_lexer": "ipython3",
   "version": "3.7.4"
  }
 },
 "nbformat": 4,
 "nbformat_minor": 5
}
