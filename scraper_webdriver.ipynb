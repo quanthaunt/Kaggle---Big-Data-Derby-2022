{
 "cells": [
  {
   "cell_type": "markdown",
   "metadata": {},
   "source": [
    "### Web-scrape for horse results"
   ]
  },
  {
   "cell_type": "code",
   "execution_count": 336,
   "metadata": {},
   "outputs": [],
   "source": [
    "import os\n",
    "import sys\n",
    "import requests\n",
    "import urllib\n",
    "import urllib.request\n",
    "from bs4 import BeautifulSoup\n",
    "from csv import writer\n",
    "import re"
   ]
  },
  {
   "cell_type": "markdown",
   "metadata": {},
   "source": [
    "### Setting path and primary URL"
   ]
  },
  {
   "cell_type": "code",
   "execution_count": 337,
   "metadata": {},
   "outputs": [],
   "source": [
    "PATH = \"usr/local/bin/chromedriver\"\n",
    "URL = \"https://tnetwork.trakus.com/tnet/t_NYRA.aspx?EventID=205193&Date=7/10/2022&Type=TBRED&Venue=23&DisplayType=1\""
   ]
  },
  {
   "cell_type": "markdown",
   "metadata": {},
   "source": [
    "### Importing URLs"
   ]
  },
  {
   "cell_type": "code",
   "execution_count": 338,
   "metadata": {},
   "outputs": [],
   "source": [
    "urls = pd.read_csv(\"urllist.csv\")\n",
    "urls_list = list(urls)\n",
    "urls_series = pd.Series(urls_list)"
   ]
  },
  {
   "cell_type": "markdown",
   "metadata": {},
   "source": [
    "### Scraping tables from URLS"
   ]
  },
  {
   "cell_type": "code",
   "execution_count": 339,
   "metadata": {},
   "outputs": [],
   "source": [
    "def scrape_table(URL):\n",
    "    #Scrapes the table from the trakus website. \n",
    "    #Returns pandas df - will still require some cleaning. \n",
    "    dfs = pd.read_html(URL)\n",
    "    df = pd.DataFrame(dfs[4]) # all the required data is in the fourth level of the output.\n",
    "    df = df.iloc[:,[2,3,4,5,7,8]]\n",
    "    df.columns = [\"Horse name\", \"Start\", \"1/4\", \"1/2\", \"3/4\", \"Finish\"]\n",
    "    \n",
    "    return df"
   ]
  },
  {
   "cell_type": "code",
   "execution_count": 340,
   "metadata": {},
   "outputs": [
    {
     "data": {
      "text/html": [
       "<div>\n",
       "<style scoped>\n",
       "    .dataframe tbody tr th:only-of-type {\n",
       "        vertical-align: middle;\n",
       "    }\n",
       "\n",
       "    .dataframe tbody tr th {\n",
       "        vertical-align: top;\n",
       "    }\n",
       "\n",
       "    .dataframe thead th {\n",
       "        text-align: right;\n",
       "    }\n",
       "</style>\n",
       "<table border=\"1\" class=\"dataframe\">\n",
       "  <thead>\n",
       "    <tr style=\"text-align: right;\">\n",
       "      <th></th>\n",
       "      <th>Horse name</th>\n",
       "      <th>Start</th>\n",
       "      <th>1/4</th>\n",
       "      <th>1/2</th>\n",
       "      <th>3/4</th>\n",
       "      <th>Finish</th>\n",
       "    </tr>\n",
       "  </thead>\n",
       "  <tbody>\n",
       "    <tr>\n",
       "      <td>0</td>\n",
       "      <td>Jc's Shooting Star</td>\n",
       "      <td>5</td>\n",
       "      <td>42 23.77</td>\n",
       "      <td>43 47.92</td>\n",
       "      <td>25 3/4 1:12.89</td>\n",
       "      <td>1Neck 1:19.52</td>\n",
       "    </tr>\n",
       "    <tr>\n",
       "      <td>1</td>\n",
       "      <td>Sounds Delicious</td>\n",
       "      <td>11/4</td>\n",
       "      <td>13/4 23.23</td>\n",
       "      <td>11 1/2 47.35</td>\n",
       "      <td>11 1/4 1:12.69</td>\n",
       "      <td>26 3/4 1:19.56</td>\n",
       "    </tr>\n",
       "    <tr>\n",
       "      <td>2</td>\n",
       "      <td>Crimson Frost</td>\n",
       "      <td>41/4</td>\n",
       "      <td>5 24.06</td>\n",
       "      <td>5 48.42</td>\n",
       "      <td>41 1/4 1:14.05</td>\n",
       "      <td>31 1/2 1:20.74</td>\n",
       "    </tr>\n",
       "    <tr>\n",
       "      <td>3</td>\n",
       "      <td>Friend of Liberty</td>\n",
       "      <td>2Head</td>\n",
       "      <td>21/4 23.33</td>\n",
       "      <td>23/4 47.60</td>\n",
       "      <td>31/2 1:13.95</td>\n",
       "      <td>41 1/4 1:21.05</td>\n",
       "    </tr>\n",
       "    <tr>\n",
       "      <td>4</td>\n",
       "      <td>Bobby's Song</td>\n",
       "      <td>31/4</td>\n",
       "      <td>32 3/4 23.36</td>\n",
       "      <td>31 47.75</td>\n",
       "      <td>5 1:14.27</td>\n",
       "      <td>5 1:21.31</td>\n",
       "    </tr>\n",
       "  </tbody>\n",
       "</table>\n",
       "</div>"
      ],
      "text/plain": [
       "           Horse name  Start           1/4           1/2             3/4  \\\n",
       "0  Jc's Shooting Star      5      42 23.77      43 47.92  25 3/4 1:12.89   \n",
       "1    Sounds Delicious   11/4    13/4 23.23  11 1/2 47.35  11 1/4 1:12.69   \n",
       "2       Crimson Frost   41/4       5 24.06       5 48.42  41 1/4 1:14.05   \n",
       "3   Friend of Liberty  2Head    21/4 23.33    23/4 47.60    31/2 1:13.95   \n",
       "4        Bobby's Song   31/4  32 3/4 23.36      31 47.75       5 1:14.27   \n",
       "\n",
       "           Finish  \n",
       "0   1Neck 1:19.52  \n",
       "1  26 3/4 1:19.56  \n",
       "2  31 1/2 1:20.74  \n",
       "3  41 1/4 1:21.05  \n",
       "4       5 1:21.31  "
      ]
     },
     "execution_count": 340,
     "metadata": {},
     "output_type": "execute_result"
    }
   ],
   "source": [
    "df = scrape_table(urls_list[0])\n",
    "df.head()"
   ]
  },
  {
   "cell_type": "markdown",
   "metadata": {},
   "source": [
    "### Cleaning tables"
   ]
  },
  {
   "cell_type": "code",
   "execution_count": 341,
   "metadata": {},
   "outputs": [],
   "source": [
    "def clean_table(df):\n",
    "    df[\"Finish_position\"] = df.index + 1\n",
    "    df[\"Finishing time\"] = df.Finish.str.split()\n",
    "    times = []\n",
    "    for i in df[\"Finishing time\"]:\n",
    "        times.append(i[-1])\n",
    "    df[\"Finishing time\"] = times\n",
    "    \n",
    "    return df"
   ]
  },
  {
   "cell_type": "code",
   "execution_count": 342,
   "metadata": {},
   "outputs": [
    {
     "data": {
      "text/html": [
       "<div>\n",
       "<style scoped>\n",
       "    .dataframe tbody tr th:only-of-type {\n",
       "        vertical-align: middle;\n",
       "    }\n",
       "\n",
       "    .dataframe tbody tr th {\n",
       "        vertical-align: top;\n",
       "    }\n",
       "\n",
       "    .dataframe thead th {\n",
       "        text-align: right;\n",
       "    }\n",
       "</style>\n",
       "<table border=\"1\" class=\"dataframe\">\n",
       "  <thead>\n",
       "    <tr style=\"text-align: right;\">\n",
       "      <th></th>\n",
       "      <th>Horse name</th>\n",
       "      <th>Start</th>\n",
       "      <th>1/4</th>\n",
       "      <th>1/2</th>\n",
       "      <th>3/4</th>\n",
       "      <th>Finish</th>\n",
       "      <th>Finish_position</th>\n",
       "      <th>Finishing time</th>\n",
       "    </tr>\n",
       "  </thead>\n",
       "  <tbody>\n",
       "    <tr>\n",
       "      <td>0</td>\n",
       "      <td>Jc's Shooting Star</td>\n",
       "      <td>5</td>\n",
       "      <td>42 23.77</td>\n",
       "      <td>43 47.92</td>\n",
       "      <td>25 3/4 1:12.89</td>\n",
       "      <td>1Neck 1:19.52</td>\n",
       "      <td>1</td>\n",
       "      <td>1:19.52</td>\n",
       "    </tr>\n",
       "    <tr>\n",
       "      <td>1</td>\n",
       "      <td>Sounds Delicious</td>\n",
       "      <td>11/4</td>\n",
       "      <td>13/4 23.23</td>\n",
       "      <td>11 1/2 47.35</td>\n",
       "      <td>11 1/4 1:12.69</td>\n",
       "      <td>26 3/4 1:19.56</td>\n",
       "      <td>2</td>\n",
       "      <td>1:19.56</td>\n",
       "    </tr>\n",
       "    <tr>\n",
       "      <td>2</td>\n",
       "      <td>Crimson Frost</td>\n",
       "      <td>41/4</td>\n",
       "      <td>5 24.06</td>\n",
       "      <td>5 48.42</td>\n",
       "      <td>41 1/4 1:14.05</td>\n",
       "      <td>31 1/2 1:20.74</td>\n",
       "      <td>3</td>\n",
       "      <td>1:20.74</td>\n",
       "    </tr>\n",
       "    <tr>\n",
       "      <td>3</td>\n",
       "      <td>Friend of Liberty</td>\n",
       "      <td>2Head</td>\n",
       "      <td>21/4 23.33</td>\n",
       "      <td>23/4 47.60</td>\n",
       "      <td>31/2 1:13.95</td>\n",
       "      <td>41 1/4 1:21.05</td>\n",
       "      <td>4</td>\n",
       "      <td>1:21.05</td>\n",
       "    </tr>\n",
       "    <tr>\n",
       "      <td>4</td>\n",
       "      <td>Bobby's Song</td>\n",
       "      <td>31/4</td>\n",
       "      <td>32 3/4 23.36</td>\n",
       "      <td>31 47.75</td>\n",
       "      <td>5 1:14.27</td>\n",
       "      <td>5 1:21.31</td>\n",
       "      <td>5</td>\n",
       "      <td>1:21.31</td>\n",
       "    </tr>\n",
       "  </tbody>\n",
       "</table>\n",
       "</div>"
      ],
      "text/plain": [
       "           Horse name  Start           1/4           1/2             3/4  \\\n",
       "0  Jc's Shooting Star      5      42 23.77      43 47.92  25 3/4 1:12.89   \n",
       "1    Sounds Delicious   11/4    13/4 23.23  11 1/2 47.35  11 1/4 1:12.69   \n",
       "2       Crimson Frost   41/4       5 24.06       5 48.42  41 1/4 1:14.05   \n",
       "3   Friend of Liberty  2Head    21/4 23.33    23/4 47.60    31/2 1:13.95   \n",
       "4        Bobby's Song   31/4  32 3/4 23.36      31 47.75       5 1:14.27   \n",
       "\n",
       "           Finish  Finish_position Finishing time  \n",
       "0   1Neck 1:19.52                1        1:19.52  \n",
       "1  26 3/4 1:19.56                2        1:19.56  \n",
       "2  31 1/2 1:20.74                3        1:20.74  \n",
       "3  41 1/4 1:21.05                4        1:21.05  \n",
       "4       5 1:21.31                5        1:21.31  "
      ]
     },
     "execution_count": 342,
     "metadata": {},
     "output_type": "execute_result"
    }
   ],
   "source": [
    "output = clean_table(df)\n",
    "output.head()"
   ]
  },
  {
   "cell_type": "markdown",
   "metadata": {},
   "source": [
    "### Getting race numbers"
   ]
  },
  {
   "cell_type": "markdown",
   "metadata": {},
   "source": [
    "Race numbers are helf in the gif names. Srape all gif names. "
   ]
  },
  {
   "cell_type": "markdown",
   "metadata": {},
   "source": [
    "- Example gif name: src=\"images/HorseRacingTiles/NYRA/4.gif\" - where 4 is the horse number. \n",
    "- The images will be scraped in order, so we can append the dataframes with the ordered list. "
   ]
  },
  {
   "cell_type": "code",
   "execution_count": 343,
   "metadata": {},
   "outputs": [],
   "source": [
    "def extract_race_number(url):\n",
    "    img_tags = []\n",
    "    race_numbers = []\n",
    "    baseUrl = requests.get(url)\n",
    "    soup = BeautifulSoup(baseUrl.text, 'html.parser')\n",
    "    allImgs = soup.findAll('img')\n",
    "    \n",
    "    for i in allImgs:\n",
    "        if \"images/HorseRacingTiles/NYRA\" in str(i):\n",
    "            \n",
    "            img_tags.append(str(i))\n",
    "    \n",
    "    for i in img_tags:\n",
    "        m = re.search('src=\"images/HorseRacingTiles/NYRA/(.+?).gif', i)\n",
    "        if m:\n",
    "            found = m.group(1)\n",
    "        race_numbers.append(str(found))\n",
    "        \n",
    "    return race_numbers\n",
    "    \n",
    "    "
   ]
  },
  {
   "cell_type": "code",
   "execution_count": 344,
   "metadata": {},
   "outputs": [
    {
     "data": {
      "text/plain": [
       "['5', '1', '2', '3', '4']"
      ]
     },
     "execution_count": 344,
     "metadata": {},
     "output_type": "execute_result"
    }
   ],
   "source": [
    "extract_race_number(urls_list[0])"
   ]
  },
  {
   "cell_type": "markdown",
   "metadata": {},
   "source": [
    "### Extracting race date from url"
   ]
  },
  {
   "cell_type": "code",
   "execution_count": 345,
   "metadata": {},
   "outputs": [
    {
     "data": {
      "text/plain": [
       "'1/1/2019'"
      ]
     },
     "execution_count": 345,
     "metadata": {},
     "output_type": "execute_result"
    }
   ],
   "source": [
    "def get_date(url):\n",
    "    m = re.search('Date=(.+?)&Type', url)\n",
    "    if m:\n",
    "        found = m.group(1)\n",
    "    \n",
    "    return found\n",
    "\n",
    "get_date(urls_list[1])\n"
   ]
  },
  {
   "cell_type": "code",
   "execution_count": 346,
   "metadata": {},
   "outputs": [
    {
     "data": {
      "text/plain": [
       "'https://tnetwork.trakus.com/tnet/t_NYRA.aspx?EventID=149757&Date=1/1/2019&Type=TBRED&Venue=24&DisplayType=1'"
      ]
     },
     "execution_count": 346,
     "metadata": {},
     "output_type": "execute_result"
    }
   ],
   "source": [
    "urls_list[1]"
   ]
  },
  {
   "cell_type": "markdown",
   "metadata": {},
   "source": [
    "### Extracting Event ID"
   ]
  },
  {
   "cell_type": "code",
   "execution_count": 347,
   "metadata": {},
   "outputs": [
    {
     "data": {
      "text/plain": [
       "'149757'"
      ]
     },
     "execution_count": 347,
     "metadata": {},
     "output_type": "execute_result"
    }
   ],
   "source": [
    "def get_event_id(url):\n",
    "    m = re.search('EventID=(.+?)&Date', url)\n",
    "    if m:\n",
    "        found = m.group(1)\n",
    "    \n",
    "    return found\n",
    "\n",
    "get_event_id(urls_list[1])"
   ]
  },
  {
   "cell_type": "markdown",
   "metadata": {},
   "source": [
    "### Full scrape"
   ]
  },
  {
   "cell_type": "code",
   "execution_count": 348,
   "metadata": {},
   "outputs": [
    {
     "data": {
      "text/html": [
       "<div>\n",
       "<style scoped>\n",
       "    .dataframe tbody tr th:only-of-type {\n",
       "        vertical-align: middle;\n",
       "    }\n",
       "\n",
       "    .dataframe tbody tr th {\n",
       "        vertical-align: top;\n",
       "    }\n",
       "\n",
       "    .dataframe thead th {\n",
       "        text-align: right;\n",
       "    }\n",
       "</style>\n",
       "<table border=\"1\" class=\"dataframe\">\n",
       "  <thead>\n",
       "    <tr style=\"text-align: right;\">\n",
       "      <th></th>\n",
       "      <th>Horse name</th>\n",
       "      <th>Start</th>\n",
       "      <th>1/4</th>\n",
       "      <th>1/2</th>\n",
       "      <th>3/4</th>\n",
       "      <th>Finish</th>\n",
       "      <th>Finish_position</th>\n",
       "      <th>Finishing time</th>\n",
       "      <th>program_number</th>\n",
       "      <th>race_date</th>\n",
       "      <th>event_id</th>\n",
       "    </tr>\n",
       "  </thead>\n",
       "  <tbody>\n",
       "    <tr>\n",
       "      <td>0</td>\n",
       "      <td>Bourbon N Rye</td>\n",
       "      <td>1Head</td>\n",
       "      <td>13/4 23.02</td>\n",
       "      <td>11 1/2 47.99</td>\n",
       "      <td>13 1/4 1:00.42</td>\n",
       "      <td>16 1:13.44</td>\n",
       "      <td>1</td>\n",
       "      <td>1:13.44</td>\n",
       "      <td>6</td>\n",
       "      <td>1/1/2019</td>\n",
       "      <td>149757</td>\n",
       "    </tr>\n",
       "    <tr>\n",
       "      <td>1</td>\n",
       "      <td>Bourbon Did It</td>\n",
       "      <td>3Head</td>\n",
       "      <td>21 3/4 23.16</td>\n",
       "      <td>23 3/4 48.24</td>\n",
       "      <td>25 1/4 1:00.97</td>\n",
       "      <td>25 1/4 1:14.59</td>\n",
       "      <td>2</td>\n",
       "      <td>1:14.59</td>\n",
       "      <td>1</td>\n",
       "      <td>1/1/2019</td>\n",
       "      <td>149757</td>\n",
       "    </tr>\n",
       "    <tr>\n",
       "      <td>2</td>\n",
       "      <td>Tenency</td>\n",
       "      <td>5Head</td>\n",
       "      <td>33/4 23.48</td>\n",
       "      <td>32 48.90</td>\n",
       "      <td>32 1/4 1:01.89</td>\n",
       "      <td>31/4 1:15.57</td>\n",
       "      <td>3</td>\n",
       "      <td>1:15.57</td>\n",
       "      <td>5</td>\n",
       "      <td>1/1/2019</td>\n",
       "      <td>149757</td>\n",
       "    </tr>\n",
       "    <tr>\n",
       "      <td>3</td>\n",
       "      <td>Legion Storm</td>\n",
       "      <td>4Head</td>\n",
       "      <td>53/4 23.61</td>\n",
       "      <td>4Head 49.27</td>\n",
       "      <td>42 1/2 1:02.25</td>\n",
       "      <td>45 3/4 1:15.64</td>\n",
       "      <td>4</td>\n",
       "      <td>1:15.64</td>\n",
       "      <td>3</td>\n",
       "      <td>1/1/2019</td>\n",
       "      <td>149757</td>\n",
       "    </tr>\n",
       "    <tr>\n",
       "      <td>4</td>\n",
       "      <td>Frost's Song</td>\n",
       "      <td>2Head</td>\n",
       "      <td>63 1/4 23.73</td>\n",
       "      <td>62 3/4 49.64</td>\n",
       "      <td>53/4 1:02.71</td>\n",
       "      <td>53 1/2 1:16.74</td>\n",
       "      <td>5</td>\n",
       "      <td>1:16.74</td>\n",
       "      <td>4</td>\n",
       "      <td>1/1/2019</td>\n",
       "      <td>149757</td>\n",
       "    </tr>\n",
       "  </tbody>\n",
       "</table>\n",
       "</div>"
      ],
      "text/plain": [
       "       Horse name  Start           1/4           1/2             3/4  \\\n",
       "0   Bourbon N Rye  1Head    13/4 23.02  11 1/2 47.99  13 1/4 1:00.42   \n",
       "1  Bourbon Did It  3Head  21 3/4 23.16  23 3/4 48.24  25 1/4 1:00.97   \n",
       "2         Tenency  5Head    33/4 23.48      32 48.90  32 1/4 1:01.89   \n",
       "3    Legion Storm  4Head    53/4 23.61   4Head 49.27  42 1/2 1:02.25   \n",
       "4    Frost's Song  2Head  63 1/4 23.73  62 3/4 49.64    53/4 1:02.71   \n",
       "\n",
       "           Finish  Finish_position Finishing time program_number race_date  \\\n",
       "0      16 1:13.44                1        1:13.44              6  1/1/2019   \n",
       "1  25 1/4 1:14.59                2        1:14.59              1  1/1/2019   \n",
       "2    31/4 1:15.57                3        1:15.57              5  1/1/2019   \n",
       "3  45 3/4 1:15.64                4        1:15.64              3  1/1/2019   \n",
       "4  53 1/2 1:16.74                5        1:16.74              4  1/1/2019   \n",
       "\n",
       "  event_id  \n",
       "0   149757  \n",
       "1   149757  \n",
       "2   149757  \n",
       "3   149757  \n",
       "4   149757  "
      ]
     },
     "execution_count": 348,
     "metadata": {},
     "output_type": "execute_result"
    }
   ],
   "source": [
    "def full_scrape(url):\n",
    "    df = scrape_table(url)\n",
    "    clean_df = clean_table(df)\n",
    "    race_numbers = extract_race_number(url)\n",
    "    clean_df[\"program_number\"] = race_numbers\n",
    "    clean_df[\"race_date\"] = get_date(url)\n",
    "    clean_df[\"event_id\"] = get_event_id(url)\n",
    "\n",
    "    \n",
    "    return clean_df\n",
    "\n",
    "df = full_scrape(urls_list[1])\n",
    "df.head()"
   ]
  },
  {
   "cell_type": "markdown",
   "metadata": {},
   "source": [
    "### Collating all datasets"
   ]
  },
  {
   "cell_type": "code",
   "execution_count": 358,
   "metadata": {},
   "outputs": [
    {
     "ename": "TypeError",
     "evalue": "'float' object is not subscriptable",
     "output_type": "error",
     "traceback": [
      "\u001b[0;31m---------------------------------------------------------------------------\u001b[0m",
      "\u001b[0;31mTypeError\u001b[0m                                 Traceback (most recent call last)",
      "\u001b[0;32m<ipython-input-358-5dd294cb0a74>\u001b[0m in \u001b[0;36m<module>\u001b[0;34m\u001b[0m\n\u001b[1;32m     10\u001b[0m     \u001b[0;32mreturn\u001b[0m \u001b[0mdf\u001b[0m\u001b[0;34m\u001b[0m\u001b[0;34m\u001b[0m\u001b[0m\n\u001b[1;32m     11\u001b[0m \u001b[0;34m\u001b[0m\u001b[0m\n\u001b[0;32m---> 12\u001b[0;31m \u001b[0mcollate_datasets\u001b[0m\u001b[0;34m(\u001b[0m\u001b[0murls_list\u001b[0m\u001b[0;34m)\u001b[0m\u001b[0;34m\u001b[0m\u001b[0;34m\u001b[0m\u001b[0m\n\u001b[0m",
      "\u001b[0;32m<ipython-input-358-5dd294cb0a74>\u001b[0m in \u001b[0;36mcollate_datasets\u001b[0;34m(list_of_urls)\u001b[0m\n\u001b[1;32m      5\u001b[0m \u001b[0;34m\u001b[0m\u001b[0m\n\u001b[1;32m      6\u001b[0m     \u001b[0;32mfor\u001b[0m \u001b[0mi\u001b[0m \u001b[0;32min\u001b[0m \u001b[0mrange\u001b[0m\u001b[0;34m(\u001b[0m\u001b[0;36m1\u001b[0m\u001b[0;34m,\u001b[0m \u001b[0mlen\u001b[0m\u001b[0;34m(\u001b[0m\u001b[0mlist_of_urls\u001b[0m\u001b[0;34m)\u001b[0m\u001b[0;34m)\u001b[0m\u001b[0;34m:\u001b[0m\u001b[0;34m\u001b[0m\u001b[0;34m\u001b[0m\u001b[0m\n\u001b[0;32m----> 7\u001b[0;31m         \u001b[0mdf2\u001b[0m \u001b[0;34m=\u001b[0m \u001b[0mfull_scrape\u001b[0m\u001b[0;34m(\u001b[0m\u001b[0mlist_of_urls\u001b[0m\u001b[0;34m[\u001b[0m\u001b[0mi\u001b[0m\u001b[0;34m]\u001b[0m\u001b[0;34m)\u001b[0m\u001b[0;34m\u001b[0m\u001b[0;34m\u001b[0m\u001b[0m\n\u001b[0m\u001b[1;32m      8\u001b[0m         \u001b[0;31m#df = pd.concat(df, df2)\u001b[0m\u001b[0;34m\u001b[0m\u001b[0;34m\u001b[0m\u001b[0;34m\u001b[0m\u001b[0m\n\u001b[1;32m      9\u001b[0m \u001b[0;34m\u001b[0m\u001b[0m\n",
      "\u001b[0;32m<ipython-input-348-732739a44b44>\u001b[0m in \u001b[0;36mfull_scrape\u001b[0;34m(url)\u001b[0m\n\u001b[1;32m      1\u001b[0m \u001b[0;32mdef\u001b[0m \u001b[0mfull_scrape\u001b[0m\u001b[0;34m(\u001b[0m\u001b[0murl\u001b[0m\u001b[0;34m)\u001b[0m\u001b[0;34m:\u001b[0m\u001b[0;34m\u001b[0m\u001b[0;34m\u001b[0m\u001b[0m\n\u001b[1;32m      2\u001b[0m     \u001b[0mdf\u001b[0m \u001b[0;34m=\u001b[0m \u001b[0mscrape_table\u001b[0m\u001b[0;34m(\u001b[0m\u001b[0murl\u001b[0m\u001b[0;34m)\u001b[0m\u001b[0;34m\u001b[0m\u001b[0;34m\u001b[0m\u001b[0m\n\u001b[0;32m----> 3\u001b[0;31m     \u001b[0mclean_df\u001b[0m \u001b[0;34m=\u001b[0m \u001b[0mclean_table\u001b[0m\u001b[0;34m(\u001b[0m\u001b[0mdf\u001b[0m\u001b[0;34m)\u001b[0m\u001b[0;34m\u001b[0m\u001b[0;34m\u001b[0m\u001b[0m\n\u001b[0m\u001b[1;32m      4\u001b[0m     \u001b[0mrace_numbers\u001b[0m \u001b[0;34m=\u001b[0m \u001b[0mextract_race_number\u001b[0m\u001b[0;34m(\u001b[0m\u001b[0murl\u001b[0m\u001b[0;34m)\u001b[0m\u001b[0;34m\u001b[0m\u001b[0;34m\u001b[0m\u001b[0m\n\u001b[1;32m      5\u001b[0m     \u001b[0mclean_df\u001b[0m\u001b[0;34m[\u001b[0m\u001b[0;34m\"program_number\"\u001b[0m\u001b[0;34m]\u001b[0m \u001b[0;34m=\u001b[0m \u001b[0mrace_numbers\u001b[0m\u001b[0;34m\u001b[0m\u001b[0;34m\u001b[0m\u001b[0m\n",
      "\u001b[0;32m<ipython-input-341-1a724e076fef>\u001b[0m in \u001b[0;36mclean_table\u001b[0;34m(df)\u001b[0m\n\u001b[1;32m      4\u001b[0m     \u001b[0mtimes\u001b[0m \u001b[0;34m=\u001b[0m \u001b[0;34m[\u001b[0m\u001b[0;34m]\u001b[0m\u001b[0;34m\u001b[0m\u001b[0;34m\u001b[0m\u001b[0m\n\u001b[1;32m      5\u001b[0m     \u001b[0;32mfor\u001b[0m \u001b[0mi\u001b[0m \u001b[0;32min\u001b[0m \u001b[0mdf\u001b[0m\u001b[0;34m[\u001b[0m\u001b[0;34m\"Finishing time\"\u001b[0m\u001b[0;34m]\u001b[0m\u001b[0;34m:\u001b[0m\u001b[0;34m\u001b[0m\u001b[0;34m\u001b[0m\u001b[0m\n\u001b[0;32m----> 6\u001b[0;31m         \u001b[0mtimes\u001b[0m\u001b[0;34m.\u001b[0m\u001b[0mappend\u001b[0m\u001b[0;34m(\u001b[0m\u001b[0mi\u001b[0m\u001b[0;34m[\u001b[0m\u001b[0;34m-\u001b[0m\u001b[0;36m1\u001b[0m\u001b[0;34m]\u001b[0m\u001b[0;34m)\u001b[0m\u001b[0;34m\u001b[0m\u001b[0;34m\u001b[0m\u001b[0m\n\u001b[0m\u001b[1;32m      7\u001b[0m     \u001b[0mdf\u001b[0m\u001b[0;34m[\u001b[0m\u001b[0;34m\"Finishing time\"\u001b[0m\u001b[0;34m]\u001b[0m \u001b[0;34m=\u001b[0m \u001b[0mtimes\u001b[0m\u001b[0;34m\u001b[0m\u001b[0;34m\u001b[0m\u001b[0m\n\u001b[1;32m      8\u001b[0m \u001b[0;34m\u001b[0m\u001b[0m\n",
      "\u001b[0;31mTypeError\u001b[0m: 'float' object is not subscriptable"
     ]
    }
   ],
   "source": [
    "urls_list = urls_list[:20]\n",
    "\n",
    "def collate_datasets(list_of_urls):\n",
    "    df = full_scrape(list_of_urls[0])\n",
    "    \n",
    "    for i in range(1, len(list_of_urls)):\n",
    "        df2 = full_scrape(list_of_urls[i])\n",
    "        #df = pd.concat(df, df2)\n",
    "    \n",
    "    return df\n",
    "\n",
    "collate_datasets(urls_list)"
   ]
  },
  {
   "cell_type": "code",
   "execution_count": 355,
   "metadata": {},
   "outputs": [
    {
     "data": {
      "text/plain": [
       "2031"
      ]
     },
     "execution_count": 355,
     "metadata": {},
     "output_type": "execute_result"
    }
   ],
   "source": [
    "len(urls_list)"
   ]
  },
  {
   "cell_type": "code",
   "execution_count": 362,
   "metadata": {},
   "outputs": [],
   "source": [
    "\n",
    "for i in range(20):\n",
    "    full_scrape(urls_list[10])"
   ]
  },
  {
   "cell_type": "code",
   "execution_count": 364,
   "metadata": {},
   "outputs": [
    {
     "data": {
      "text/plain": [
       "20"
      ]
     },
     "execution_count": 364,
     "metadata": {},
     "output_type": "execute_result"
    }
   ],
   "source": [
    "len(urls_list)"
   ]
  },
  {
   "cell_type": "code",
   "execution_count": null,
   "metadata": {},
   "outputs": [],
   "source": []
  }
 ],
 "metadata": {
  "kernelspec": {
   "display_name": "Python 3",
   "language": "python",
   "name": "python3"
  },
  "language_info": {
   "codemirror_mode": {
    "name": "ipython",
    "version": 3
   },
   "file_extension": ".py",
   "mimetype": "text/x-python",
   "name": "python",
   "nbconvert_exporter": "python",
   "pygments_lexer": "ipython3",
   "version": "3.7.4"
  }
 },
 "nbformat": 4,
 "nbformat_minor": 2
}
